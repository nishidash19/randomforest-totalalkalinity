{
 "cells": [
  {
   "cell_type": "markdown",
   "id": "44bf147d-55a8-4305-8112-2aafd9d5cfe8",
   "metadata": {},
   "source": [
    "## Cross Validation for Bias + RMSE Estimates"
   ]
  },
  {
   "cell_type": "code",
   "execution_count": 1,
   "id": "56159d02-8034-4fab-b22c-fa136a288098",
   "metadata": {},
   "outputs": [],
   "source": [
    "import numpy as np\n",
    "import pandas as pd \n",
    "import random\n",
    "\n",
    "from sklearn.metrics import root_mean_squared_error, mean_squared_error\n",
    "from sklearn.ensemble import RandomForestRegressor\n",
    "from itertools import zip_longest"
   ]
  },
  {
   "cell_type": "code",
   "execution_count": 2,
   "id": "1c021d33-2fbb-4308-a1b8-7003a546a1a7",
   "metadata": {},
   "outputs": [],
   "source": [
    "#import dataset\n",
    "ta_ed = pd.read_csv(\"~/hollings/data/8clovlap.csv\")\n",
    "ta_ed2 = pd.read_csv(\"~/hollings/data/8clovlap2.csv\")"
   ]
  },
  {
   "cell_type": "markdown",
   "id": "05dce4b4-5056-4485-8f7b-9df00acb1517",
   "metadata": {},
   "source": [
    "## Overall Bias Estimates"
   ]
  },
  {
   "cell_type": "markdown",
   "id": "7399d417-4ba4-4504-b859-09915490dd90",
   "metadata": {},
   "source": [
    "#### Determining how many cruises need to be in each CV group"
   ]
  },
  {
   "cell_type": "code",
   "execution_count": 27,
   "id": "8bcadc48-76c3-4107-b77c-1d6ef7853407",
   "metadata": {},
   "outputs": [],
   "source": [
    "cr_lst = ta_ed2.Cruise.unique().tolist()"
   ]
  },
  {
   "cell_type": "code",
   "execution_count": 52,
   "id": "8b63bcfa-5b34-4bea-8c89-b9aa416b4a1c",
   "metadata": {},
   "outputs": [
    {
     "data": {
      "text/plain": [
       "(72.2, 360)"
      ]
     },
     "execution_count": 52,
     "metadata": {},
     "output_type": "execute_result"
    }
   ],
   "source": [
    "361/5, 72*5"
   ]
  },
  {
   "cell_type": "code",
   "execution_count": 26,
   "id": "7ab28e53-d59c-45ba-8471-ba0bd146b9b2",
   "metadata": {},
   "outputs": [],
   "source": [
    "random.seed(6)\n",
    "tst = random.sample(cr_lst, len(cr_lst))\n",
    "grps = zip(*(iter(tst),) * 72)\n",
    "grp_lst = list(grps)"
   ]
  },
  {
   "cell_type": "code",
   "execution_count": 5,
   "id": "2dec2f16-2c19-403e-9ca1-70d09a6f28c3",
   "metadata": {},
   "outputs": [],
   "source": [
    "#making the different cv groups\n",
    "grp_dict = {}\n",
    "for idx, grp in enumerate(grp_lst):\n",
    "    jdx = list(grp_lst[idx])\n",
    "    grp_dict[idx] = jdx\n",
    "\n",
    "grp_dict[4].extend([1076.0])\n",
    "\n",
    "grp_data_dict = {}\n",
    "for idx in grp_dict.keys():\n",
    "    j = ta_ed[ta_ed[\"Cruise\"].isin(grp_dict[idx])]\n",
    "    grp_data_dict[idx] = j\n",
    "\n",
    "cv_splitdt = {}\n",
    "for idx in grp_data_dict.keys():\n",
    "    test_set =  grp_data_dict[idx]\n",
    "    train_set = ta_ed[~ta_ed.index.isin(test_set.index)]\n",
    "    cv_splitdt[idx] = [train_set.index, test_set.index]\n",
    "\n",
    "cv_datadt = {}\n",
    "for idx in cv_splitdt.keys():\n",
    "    ts = ta_ed.iloc[cv_splitdt[idx][1]]\n",
    "    tr = ta_ed.iloc[cv_splitdt[idx][0]]\n",
    "    cv_datadt[idx] = [tr,ts]\n",
    "\n",
    "cv_tot = {}\n",
    "for idx in cv_datadt.keys():\n",
    "    cv_cldt = {}\n",
    "    for i in range(8):\n",
    "        match_tr = []\n",
    "        match_ts = []\n",
    "        match_tr = cv_datadt[idx][0][cv_datadt[idx][0]['Cluster'] == i]\n",
    "        match_ts = cv_datadt[idx][1][cv_datadt[idx][1]['Cluster'] == i]\n",
    "        cv_cldt[i] = [match_tr, match_ts]\n",
    "    cv_tot[idx] = cv_cldt"
   ]
  },
  {
   "cell_type": "code",
   "execution_count": null,
   "id": "f6f7e294-c464-48a4-a6fe-ebc1330c15c1",
   "metadata": {},
   "outputs": [],
   "source": [
    "clst = []\n",
    "for i in grp_dict.keys():\n",
    "    clst.extend(grp_dict[i])\n",
    "\n",
    "len(clst)\n",
    "clst.sort()\n",
    "clst"
   ]
  },
  {
   "cell_type": "code",
   "execution_count": 134,
   "id": "111f3ab8-5fac-4484-a86a-dbb254481ef4",
   "metadata": {
    "scrolled": true
   },
   "outputs": [
    {
     "data": {
      "text/plain": [
       "(        Cruise  region  Latitude  Longitude  Bottom Depth   Depth       T  \\\n",
       " 468      272.0     8.0    32.749     133.11         144.0     8.0  23.233   \n",
       " 469      272.0     8.0    32.749     133.11         144.0    23.0  22.534   \n",
       " 470      272.0     8.0    32.749     133.11         144.0    52.0  20.864   \n",
       " 471      272.0     8.0    32.749     133.11         144.0    77.0  19.765   \n",
       " 472      272.0     8.0    32.749     133.11         144.0   102.0  17.808   \n",
       " ...        ...     ...       ...        ...           ...     ...     ...   \n",
       " 225187   348.0     8.0   -58.000    -170.00        2038.0   805.0   2.562   \n",
       " 225188   348.0     8.0   -58.000    -170.00        2038.0  1007.0   2.444   \n",
       " 225189   348.0     8.0   -58.000    -170.00        2038.0  1256.0   2.320   \n",
       " 225190   348.0     8.0   -58.000    -170.00        2038.0  1506.0   2.198   \n",
       " 225191   348.0     8.0   -58.000    -170.00        2038.0  2000.0   1.883   \n",
       " \n",
       "              S  Oxygen  Nitrate  ...     Cluster 1      Cluster 2  \\\n",
       " 468     34.345  221.30    0.180  ...  1.818847e-76   2.150636e-09   \n",
       " 469     34.397  224.00    0.180  ...  1.818847e-76   2.150636e-09   \n",
       " 470     34.472  219.80    0.320  ...  1.818847e-76   2.150636e-09   \n",
       " 471     34.621  208.60    2.320  ...  1.818847e-76   2.150636e-09   \n",
       " 472     34.668  189.90    6.700  ...  1.818847e-76   2.150636e-09   \n",
       " ...        ...     ...      ...  ...           ...            ...   \n",
       " 225187  34.465  181.87   34.057  ...  0.000000e+00  1.857177e-198   \n",
       " 225188  34.574  174.27   33.725  ...  0.000000e+00  1.857177e-198   \n",
       " 225189  34.656  176.40   32.544  ...  0.000000e+00  1.857177e-198   \n",
       " 225190  34.699  181.26   31.740  ...  0.000000e+00  1.857177e-198   \n",
       " 225191  34.739  191.47   30.782  ...  0.000000e+00  1.857177e-198   \n",
       " \n",
       "            Cluster 3      Cluster 4      Cluster 5     Cluster 6  \\\n",
       " 468     2.906576e-47   9.991295e-01  1.609264e-186  7.362776e-14   \n",
       " 469     2.906576e-47   9.991295e-01  1.609264e-186  7.362776e-14   \n",
       " 470     2.906576e-47   9.991295e-01  1.609264e-186  7.362776e-14   \n",
       " 471     2.906576e-47   9.991295e-01  1.609264e-186  7.362776e-14   \n",
       " 472     2.906576e-47   9.991295e-01  1.609264e-186  7.362776e-14   \n",
       " ...              ...            ...            ...           ...   \n",
       " 225187  5.110435e-01  3.462868e-137   4.889565e-01  3.782864e-23   \n",
       " 225188  5.110435e-01  3.462868e-137   4.889565e-01  3.782864e-23   \n",
       " 225189  5.110435e-01  3.462868e-137   4.889565e-01  3.782864e-23   \n",
       " 225190  5.110435e-01  3.462868e-137   4.889565e-01  3.782864e-23   \n",
       " 225191  5.110435e-01  3.462868e-137   4.889565e-01  3.782864e-23   \n",
       " \n",
       "             Cluster 7      Cluster 8  count  overlap_cl  \n",
       " 468      8.705450e-04   7.431527e-19      1           3  \n",
       " 469      8.705450e-04   7.431527e-19      1           3  \n",
       " 470      8.705450e-04   7.431527e-19      1           3  \n",
       " 471      8.705450e-04   7.431527e-19      1           3  \n",
       " 472      8.705450e-04   7.431527e-19      1           3  \n",
       " ...               ...            ...    ...         ...  \n",
       " 225187  8.648608e-260  1.045509e-198      2           9  \n",
       " 225188  8.648608e-260  1.045509e-198      2           9  \n",
       " 225189  8.648608e-260  1.045509e-198      2           9  \n",
       " 225190  8.648608e-260  1.045509e-198      2           9  \n",
       " 225191  8.648608e-260  1.045509e-198      2           9  \n",
       " \n",
       " [35814 rows x 33 columns],\n",
       "         Cruise  region  Latitude  Longitude  Bottom Depth   Depth        T  \\\n",
       " 0        217.0     8.0   26.2930   125.3600        1258.0     2.0  24.3190   \n",
       " 1        217.0     8.0   26.2930   125.3600        1258.0    10.0  24.3330   \n",
       " 2        217.0     8.0   26.2930   125.3600        1258.0    26.0  24.3490   \n",
       " 3        217.0     8.0   26.2930   125.3600        1258.0    50.0  24.3080   \n",
       " 4        217.0     8.0   26.2930   125.3600        1258.0    74.0  24.0670   \n",
       " ...        ...     ...       ...        ...           ...     ...      ...   \n",
       " 233430  3038.0     8.0  -18.4282  -165.9315        5149.0  3937.0   1.3650   \n",
       " 233431  3038.0     8.0  -18.4282  -165.9315        5149.0  4183.0   1.2627   \n",
       " 233432  3038.0     8.0  -18.4282  -165.9315        5149.0  4429.0   1.1751   \n",
       " 233433  3038.0     8.0  -18.4282  -165.9315        5149.0  4670.0   1.1234   \n",
       " 233434  3038.0     8.0  -18.4282  -165.9315        5149.0  4939.0   1.1128   \n",
       " \n",
       "               S  Oxygen  Nitrate  ...     Cluster 1     Cluster 2  \\\n",
       " 0       34.2970   201.3     0.50  ...  4.171425e-53  1.680647e-04   \n",
       " 1       34.3500   201.0     1.60  ...  4.171425e-53  1.680647e-04   \n",
       " 2       34.2440   201.2     0.60  ...  4.171425e-53  1.680647e-04   \n",
       " 3       34.3250   201.3     0.50  ...  4.171425e-53  1.680647e-04   \n",
       " 4       34.2810   202.4     0.30  ...  4.171425e-53  1.680647e-04   \n",
       " ...         ...     ...      ...  ...           ...           ...   \n",
       " 233430  34.7033   185.7    33.44  ...  4.428654e-75  1.971315e-31   \n",
       " 233431  34.7089   194.4    32.79  ...  4.428654e-75  1.971315e-31   \n",
       " 233432  34.7101   200.0    32.44  ...  4.428654e-75  1.971315e-31   \n",
       " 233433  34.7105   203.4    32.49  ...  4.428654e-75  1.971315e-31   \n",
       " 233434  34.7102   204.2    32.47  ...  4.428654e-75  1.971315e-31   \n",
       " \n",
       "            Cluster 3     Cluster 4      Cluster 5     Cluster 6     Cluster 7  \\\n",
       " 0       5.347112e-36  9.998317e-01  2.685562e-158  2.432789e-07  1.541724e-30   \n",
       " 1       5.347112e-36  9.998317e-01  2.685562e-158  2.432789e-07  1.541724e-30   \n",
       " 2       5.347112e-36  9.998317e-01  2.685562e-158  2.432789e-07  1.541724e-30   \n",
       " 3       5.347112e-36  9.998317e-01  2.685562e-158  2.432789e-07  1.541724e-30   \n",
       " 4       5.347112e-36  9.998317e-01  2.685562e-158  2.432789e-07  1.541724e-30   \n",
       " ...              ...           ...            ...           ...           ...   \n",
       " 233430  7.462380e-01  1.463045e-25   2.335957e-09  6.856677e-03  0.000000e+00   \n",
       " 233431  7.462380e-01  1.463045e-25   2.335957e-09  6.856677e-03  0.000000e+00   \n",
       " 233432  7.462380e-01  1.463045e-25   2.335957e-09  6.856677e-03  0.000000e+00   \n",
       " 233433  7.462380e-01  1.463045e-25   2.335957e-09  6.856677e-03  0.000000e+00   \n",
       " 233434  7.462380e-01  1.463045e-25   2.335957e-09  6.856677e-03  0.000000e+00   \n",
       " \n",
       "            Cluster 8  count  overlap_cl  \n",
       " 0       6.487849e-11      1           3  \n",
       " 1       6.487849e-11      1           3  \n",
       " 2       6.487849e-11      1           3  \n",
       " 3       6.487849e-11      1           3  \n",
       " 4       6.487849e-11      1           3  \n",
       " ...              ...    ...         ...  \n",
       " 233430  2.469053e-01      2           9  \n",
       " 233431  2.469053e-01      2           9  \n",
       " 233432  2.469053e-01      2           9  \n",
       " 233433  2.469053e-01      2           9  \n",
       " 233434  2.469053e-01      2           9  \n",
       " \n",
       " [197621 rows x 33 columns])"
      ]
     },
     "execution_count": 134,
     "metadata": {},
     "output_type": "execute_result"
    }
   ],
   "source": [
    "ts, tr"
   ]
  },
  {
   "cell_type": "code",
   "execution_count": 135,
   "id": "c04404d5-007f-4b82-9aaa-778870710cae",
   "metadata": {
    "scrolled": true
   },
   "outputs": [
    {
     "data": {
      "text/plain": [
       "{0: [Index([    57,     58,     59,     60,     61,     62,     63,     64,     65,\n",
       "             66,\n",
       "         ...\n",
       "         233425, 233426, 233427, 233428, 233429, 233430, 233431, 233432, 233433,\n",
       "         233434],\n",
       "        dtype='int64', length=180789),\n",
       "  Index([     0,      1,      2,      3,      4,      5,      6,      7,      8,\n",
       "              9,\n",
       "         ...\n",
       "         226936, 226937, 226938, 226939, 226940, 226941, 226942, 226943, 226944,\n",
       "         226945],\n",
       "        dtype='int64', length=52646)],\n",
       " 1: [Index([     0,      1,      2,      3,      4,      5,      6,      7,      8,\n",
       "              9,\n",
       "         ...\n",
       "         233425, 233426, 233427, 233428, 233429, 233430, 233431, 233432, 233433,\n",
       "         233434],\n",
       "        dtype='int64', length=187177),\n",
       "  Index([  3867,   3868,   3869,   3870,   3871,   3872,   3873,   3874,   3875,\n",
       "           3876,\n",
       "         ...\n",
       "         232536, 232537, 232538, 232539, 232540, 232541, 232542, 232543, 232544,\n",
       "         232545],\n",
       "        dtype='int64', length=46258)],\n",
       " 2: [Index([     0,      1,      2,      3,      4,      5,      6,      7,      8,\n",
       "              9,\n",
       "         ...\n",
       "         233357, 233358, 233359, 233360, 233361, 233362, 233363, 233364, 233365,\n",
       "         233366],\n",
       "        dtype='int64', length=189529),\n",
       "  Index([    57,     58,     59,     60,     61,     62,     63,     64,     65,\n",
       "             66,\n",
       "         ...\n",
       "         233425, 233426, 233427, 233428, 233429, 233430, 233431, 233432, 233433,\n",
       "         233434],\n",
       "        dtype='int64', length=43906)],\n",
       " 3: [Index([     0,      1,      2,      3,      4,      5,      6,      7,      8,\n",
       "              9,\n",
       "         ...\n",
       "         233425, 233426, 233427, 233428, 233429, 233430, 233431, 233432, 233433,\n",
       "         233434],\n",
       "        dtype='int64', length=178624),\n",
       "  Index([  6172,   6173,   6174,   6175,   6176,   6177,   6178,   6179,   6180,\n",
       "           6181,\n",
       "         ...\n",
       "         233357, 233358, 233359, 233360, 233361, 233362, 233363, 233364, 233365,\n",
       "         233366],\n",
       "        dtype='int64', length=54811)],\n",
       " 4: [Index([     0,      1,      2,      3,      4,      5,      6,      7,      8,\n",
       "              9,\n",
       "         ...\n",
       "         233425, 233426, 233427, 233428, 233429, 233430, 233431, 233432, 233433,\n",
       "         233434],\n",
       "        dtype='int64', length=197621),\n",
       "  Index([   468,    469,    470,    471,    472,    473,    474,    475,    476,\n",
       "            477,\n",
       "         ...\n",
       "         225182, 225183, 225184, 225185, 225186, 225187, 225188, 225189, 225190,\n",
       "         225191],\n",
       "        dtype='int64', length=35814)]}"
      ]
     },
     "execution_count": 135,
     "metadata": {},
     "output_type": "execute_result"
    }
   ],
   "source": [
    "cv_splitdt"
   ]
  },
  {
   "cell_type": "markdown",
   "id": "017c8c95-bb8a-440b-a435-9693ce381e4e",
   "metadata": {},
   "source": [
    "#### Create the CV folds "
   ]
  },
  {
   "cell_type": "code",
   "execution_count": 1,
   "id": "19d94978-a3e9-4723-8763-07c36d441b63",
   "metadata": {},
   "outputs": [],
   "source": [
    "#list(ta_ed2.columns)"
   ]
  },
  {
   "cell_type": "code",
   "execution_count": 28,
   "id": "fcdeca50-863a-42f4-a700-b80b00de1b96",
   "metadata": {},
   "outputs": [],
   "source": [
    "## 8cl split\n",
    "clust1 = ta_ed2.loc[ta_ed2[\"Cluster\"] ==0]\n",
    "clust2 = ta_ed2.loc[ta_ed2[\"Cluster\"] ==1]\n",
    "clust3 = ta_ed2.loc[ta_ed2[\"Cluster\"] ==2]\n",
    "clust4 = ta_ed2.loc[ta_ed2[\"Cluster\"] ==3]\n",
    "clust5 = ta_ed2.loc[ta_ed2[\"Cluster\"] ==4]\n",
    "clust6 = ta_ed2.loc[ta_ed2[\"Cluster\"] ==5]\n",
    "clust7 = ta_ed2.loc[ta_ed2[\"Cluster\"] ==6]\n",
    "clust8 = ta_ed2.loc[ta_ed2[\"Cluster\"] ==7]\n",
    "\n",
    "cluster_lst = [clust1, clust2, clust3, clust4, clust5, clust6, clust7, clust8]"
   ]
  },
  {
   "cell_type": "code",
   "execution_count": 2,
   "id": "3959df37-c409-46dc-84bd-7aeb2fc60c72",
   "metadata": {},
   "outputs": [],
   "source": [
    "#Checking to see if this was done correctly \n",
    "#clust1.Cluster\n",
    "#len(cv_tot[0][0][0]), len(cv_tot[0][0][1]), len(cv_tot[0][0][0]) + len(cv_tot[0][0][1])\n",
    "#b[0][0].index"
   ]
  },
  {
   "cell_type": "code",
   "execution_count": 29,
   "id": "508b8062-0a80-43a3-831f-15b22a15f4df",
   "metadata": {},
   "outputs": [],
   "source": [
    "def cv_split(cr_lst, df): ##this output is equivalent to splitted data\n",
    "    random.seed(6)\n",
    "    tst = random.sample(cr_lst, len(cr_lst))\n",
    "    grps = zip(*(iter(tst),) * 72)\n",
    "    grp_lst = list(grps)\n",
    "\n",
    "#making the different cv groups\n",
    "    grp_dict = {}\n",
    "    for idx, grp in enumerate(grp_lst):\n",
    "        jdx = list(grp_lst[idx])\n",
    "        grp_dict[idx] = jdx\n",
    "    grp_dict[4].extend([1076.0])\n",
    "        \n",
    "#turn the list of groups --> dataframes\n",
    "    grp_data_dict = {}\n",
    "    for idx in grp_dict.keys():\n",
    "        j = df[df[\"Cruise\"].isin(grp_dict[idx])]\n",
    "        grp_data_dict[idx] = j\n",
    "\n",
    "#make train and test sets for each fold \n",
    "    cv_splitdt = {}\n",
    "    for idx in grp_data_dict.keys():\n",
    "        test_set =  grp_data_dict[idx]\n",
    "        train_set = df[~df.index.isin(test_set.index)]\n",
    "        cv_splitdt[idx] = [train_set.index, test_set.index]\n",
    "\n",
    "#need to sep by cluster here \n",
    "    cv_datadt = {}\n",
    "    for idx in cv_splitdt.keys():\n",
    "        ts = df.iloc[cv_splitdt[idx][1]]\n",
    "        tr = df.iloc[cv_splitdt[idx][0]]\n",
    "        cv_datadt[idx] = [tr,ts]\n",
    "\n",
    "    cv_tot = {}\n",
    "    for idx in cv_datadt.keys():\n",
    "        cv_cldt = {}\n",
    "        for i in range(8):\n",
    "            match_tr = []\n",
    "            match_ts = []\n",
    "            match_tr = cv_datadt[idx][0][cv_datadt[idx][0]['Cluster'] == i]\n",
    "            match_ts = cv_datadt[idx][1][cv_datadt[idx][1]['Cluster'] == i]\n",
    "            cv_cldt[i] = [match_tr.index, match_ts.index]\n",
    "        cv_tot[idx] = cv_cldt\n",
    "    return cv_tot"
   ]
  },
  {
   "cell_type": "code",
   "execution_count": 6,
   "id": "acdcf46a-a6c4-4824-9a41-bce26e792ada",
   "metadata": {},
   "outputs": [],
   "source": [
    "#Testing to see if the function worked\n",
    "#cv_tot[0][0][0].TA"
   ]
  },
  {
   "cell_type": "code",
   "execution_count": 32,
   "id": "aaa451c6-f39d-4cc8-ac68-a875adf190f4",
   "metadata": {},
   "outputs": [],
   "source": [
    "ex = cv_split(cr_lst, ta_ed2)"
   ]
  },
  {
   "cell_type": "code",
   "execution_count": 5,
   "id": "b9fa9310-61cc-492d-a297-fa6b816e9d50",
   "metadata": {},
   "outputs": [],
   "source": [
    "#Applying the splitting function\n",
    "#ex[0]"
   ]
  },
  {
   "cell_type": "code",
   "execution_count": null,
   "id": "b3908594-cfa3-477e-bca9-d45702d4900e",
   "metadata": {},
   "outputs": [],
   "source": [
    "## checking that the train and test indices really are split properly \n",
    "list(cv_train_dt[0].columns)\n",
    "qa = list(cv_train_dt[0].index)\n",
    "qa1 = list(cv_test_dt[0].index)\n",
    "\n",
    "sm = []\n",
    "for i in range(len(qa)):\n",
    "    k = (qa[i] == qa1[i])\n",
    "    sm.append(k)\n",
    "print(np.unique(sm))"
   ]
  },
  {
   "cell_type": "code",
   "execution_count": 34,
   "id": "2b74382f-c6c1-4094-8915-bafcae72bf30",
   "metadata": {},
   "outputs": [],
   "source": [
    "def root_mean_squared_error(y_true, y_pred):\n",
    "    return np.sqrt(mean_squared_error(y_true, y_pred))\n",
    "    \n",
    "def make_features(c_lst):\n",
    "    ft_dict = {}\n",
    "    for idx, cluster in enumerate(c_lst):\n",
    "        X1 = cluster[\"S\"] #0\n",
    "        X2 = cluster[\"PT\"] #1\n",
    "        X3 = cluster[\"Nitrate\"] #2\n",
    "        X4 = cluster[\"AOU\"] #3\n",
    "        X5 = cluster[\"Silicate\"] #4\n",
    "        #lat = cluster[\"Latitude\"] #5\n",
    "        lon20= np.cos(np.deg2rad(cluster[\"Longitude\"] - 20))#6\n",
    "        lon110= np.cos(np.deg2rad(cluster[\"Longitude\"] - 110)) #7\n",
    "        depth = cluster[\"Depth\"] #8\n",
    "        order = cluster[\"order\"] #9\n",
    "        y = cluster[\"TA\"] #10\n",
    "        cruise = cluster[\"Cruise\"] #11\n",
    "        ft_dict[idx]=[X1, X2, X3, X4, X5, lon20, lon110, depth, order, y, cruise]\n",
    "    return ft_dict\n",
    "\n",
    "##this output is equivalent to splitted data\n",
    "def cv_split(cr_lst):\n",
    "    random.seed(6)\n",
    "    tst = random.sample(cr_lst, len(cr_lst))\n",
    "    grps = zip(*(iter(tst),) * 72)\n",
    "    grp_lst = list(grps)\n",
    "\n",
    "#making the different cv groups\n",
    "    grp_dict = {}\n",
    "    for idx, grp in enumerate(grp_lst):\n",
    "        jdx = list(grp_lst[idx])\n",
    "        grp_dict[idx] = jdx\n",
    "    grp_dict[4].extend([1076.0])\n",
    "\n",
    "#turn the list of groups --> dataframes\n",
    "    grp_data_dict = {}\n",
    "    for idx in grp_dict.keys():\n",
    "        j = ta_ed[ta_ed[\"Cruise\"].isin(grp_dict[idx])]\n",
    "        grp_data_dict[idx] = j\n",
    "\n",
    "#make train and test sets for each fold \n",
    "    cv_splitdt = {}\n",
    "    for idx in grp_data_dict.keys():\n",
    "        test_set =  grp_data_dict[idx]\n",
    "        train_set = ta_ed[~ta_ed.index.isin(test_set.index)]\n",
    "        cv_splitdt[idx] = [train_set.index, test_set.index]\n",
    "\n",
    "#need to sep by cluster here \n",
    "    cv_datadt = {}\n",
    "    for idx in cv_splitdt.keys():\n",
    "        ts = ta_ed.iloc[cv_splitdt[idx][1]]\n",
    "        tr = ta_ed.iloc[cv_splitdt[idx][0]]\n",
    "        cv_datadt[idx] = [tr,ts]\n",
    "\n",
    "    cv_tot = {}\n",
    "    for idx in cv_datadt.keys():\n",
    "        cv_cldt = {}\n",
    "        for i in range(8):\n",
    "            match_tr = []\n",
    "            match_ts = []\n",
    "            match_tr = cv_datadt[idx][0][cv_datadt[idx][0]['Cluster'] == i]\n",
    "            match_ts = cv_datadt[idx][1][cv_datadt[idx][1]['Cluster'] == i]\n",
    "            cv_cldt[i] = [match_tr.index, match_ts.index]\n",
    "        cv_tot[idx] = cv_cldt\n",
    "    return cv_tot\n",
    "    \n",
    "#drop y and cruise col here (need y not to be shaped this way and dont need cruise col anymore)\n",
    "def rearrange(splitted_data, ft_dict):\n",
    "    reshaped_data = {}\n",
    "    for idx in splitted_data.keys(): #going into each of the keys \n",
    "        train_index, test_index = splitted_data[idx]\n",
    "        feat_values = []\n",
    "        for i in range(len(ft_dict[idx])-3): ##added a \"-3\" to get rid of last three elements but idk that will acutally work\n",
    "            re_values = []\n",
    "            train_arr = ft_dict[idx][i][train_index]\n",
    "            train=np.array(train_arr)\n",
    "            train.reshape(-1,1)\n",
    "        \n",
    "            test_arr = ft_dict[idx][i][test_index]\n",
    "            test = np.array(test_arr)\n",
    "            test.reshape(-1,1)\n",
    "            \n",
    "            re_values.append(train)\n",
    "            re_values.append(test)\n",
    "            feat_values.append(re_values)\n",
    "        reshaped_data[idx] = feat_values\n",
    "    return reshaped_data\n",
    "\n",
    "def y_capture(splitted_data, ft_dict):\n",
    "    y_dict = {}\n",
    "    for idx in splitted_data.keys(): #going into each of the keys \n",
    "        train_index, test_index = splitted_data[idx]\n",
    "        y_train = ft_dict[idx][9][train_index]\n",
    "        y_test = ft_dict[idx][9][test_index]\n",
    "        y_dict[idx] = (y_train, y_test)\n",
    "    return y_dict\n",
    "\n",
    "def order_capture(splitted_data, ft_dict):\n",
    "    order_dict = {}\n",
    "    for idx in splitted_data.keys(): #going into each of the keys \n",
    "        train_index, test_index = splitted_data[idx]\n",
    "        order_train = ft_dict[idx][8][train_index]\n",
    "        order_test = ft_dict[idx][8][test_index]\n",
    "        order_dict[idx] = (order_train, order_test)\n",
    "    return order_dict\n",
    "    \n",
    "def make_clust_eq(reshaped_dict):\n",
    "    tpose_dt = {}\n",
    "    for idx in reshaped_dict.keys(): #going into each cluster\n",
    "        final_set = []\n",
    "        train_eq_clust = []\n",
    "        test_eq_clust = []\n",
    "        for k in range(len(reshaped_dict[idx])):\n",
    "            train_eq_clust.append(reshaped_dict[idx][k][0]) #this is where the problem is \n",
    "            train_clust_trans = np.transpose(train_eq_clust)\n",
    "            test_eq_clust.append(reshaped_dict[idx][k][1]) #this is where the problem is \n",
    "            test_clust_trans = np.transpose(test_eq_clust)\n",
    "        final_set.append(train_clust_trans)\n",
    "        final_set.append(test_clust_trans)\n",
    "        tpose_dt[idx] = final_set\n",
    "    return tpose_dt\n",
    "\n",
    "def rfr(tpose_dt, y_dict):\n",
    "    train_rmse_lst = []\n",
    "    tst_rmse_lst = []\n",
    "    for idx in tpose_dt.keys():\n",
    "        rf = RandomForestRegressor()\n",
    "        rf.fit(tpose_dt[idx][0], y_dict[idx][0])\n",
    "        \n",
    "        train_pred = rf.predict(tpose_dt[idx][0])\n",
    "        train_rmse = root_mean_squared_error(y_dict[idx][0], train_pred)\n",
    "        train_rmse_lst.append(train_rmse)\n",
    "        \n",
    "        test_pred = rf.predict(tpose_dt[idx][1])\n",
    "        tst_rmse = root_mean_squared_error(y_dict[idx][1], test_pred)\n",
    "        tst_rmse_lst.append(tst_rmse)\n",
    "    return train_rmse_lst, tst_rmse_lst\n",
    "    \n",
    "def preds(tpose_dt, y_dict):\n",
    "    train_preds = {}\n",
    "    test_preds = {}\n",
    "    for idx in tpose_dt.keys():\n",
    "        rf = RandomForestRegressor()\n",
    "        rf.fit(tpose_dt[idx][0], y_dict[idx][0])\n",
    "        train_pred = rf.predict(tpose_dt[idx][0])\n",
    "        train_preds[idx] = train_pred\n",
    "        test_pred = rf.predict(tpose_dt[idx][1])\n",
    "        test_preds[idx] = test_pred\n",
    "    return train_preds, test_preds\n",
    "\n",
    "def comb_ords_preds(test_preds, order_dict, y_dict):\n",
    "    clnum = []\n",
    "    ord_tst = []\n",
    "    pred_tst = []\n",
    "    actual_y = []\n",
    "    for idx in range(len(order_dict)):\n",
    "        cl_len = [idx]*len(order_dict[idx][1])\n",
    "        ord_tst.extend(order_dict[idx][1])\n",
    "        clnum.extend(cl_len)\n",
    "    for idx in range(len(y_dict)):\n",
    "        actual_y.extend(y_dict[idx][1])\n",
    "    for i in range(len(test_preds)):\n",
    "        pred_tst.extend(test_preds[i])\n",
    "    comb_df = pd.DataFrame( {\"Order_Num\": ord_tst,\n",
    "                             \"RFR1\": pred_tst,\n",
    "                             \"Y_test\": actual_y,\n",
    "                             \"Cluster\": clnum})\n",
    "    return comb_df"
   ]
  },
  {
   "cell_type": "markdown",
   "id": "f056ad4d-78e4-44d6-9a8c-45b417bc4a1d",
   "metadata": {},
   "source": [
    "### CV 1"
   ]
  },
  {
   "cell_type": "code",
   "execution_count": 35,
   "id": "000cdd76-8cc7-4261-a2e6-829aae6757fe",
   "metadata": {},
   "outputs": [],
   "source": [
    "b = make_features(cluster_lst)"
   ]
  },
  {
   "cell_type": "code",
   "execution_count": 36,
   "id": "0a0046bb-3ba7-478e-a311-fa242b1ab0f1",
   "metadata": {},
   "outputs": [],
   "source": [
    "d = rearrange(ex[0],b)\n",
    "e = y_capture(ex[0],b)\n",
    "order = order_capture(ex[0],b)\n",
    "f = make_clust_eq(d)\n",
    "g = rfr(f,e)\n",
    "h = preds(f,e)"
   ]
  },
  {
   "cell_type": "code",
   "execution_count": 39,
   "id": "6ad50e4e-af11-4e18-8b8f-6ea4c3a6275b",
   "metadata": {},
   "outputs": [],
   "source": [
    "on = g"
   ]
  },
  {
   "cell_type": "code",
   "execution_count": 47,
   "id": "c52c5359-9518-40e0-b0b1-dc733fb9eb05",
   "metadata": {},
   "outputs": [],
   "source": [
    "one = comb_ords_preds(h[1], order, e)"
   ]
  },
  {
   "cell_type": "code",
   "execution_count": 48,
   "id": "453479fd-b480-40c7-bfe4-02048b919746",
   "metadata": {},
   "outputs": [],
   "source": [
    "one[\"cv\"] = 1"
   ]
  },
  {
   "cell_type": "code",
   "execution_count": 49,
   "id": "0cea482a-4f1b-4cef-b9cb-20d4aba1a6ff",
   "metadata": {},
   "outputs": [
    {
     "data": {
      "text/html": [
       "<div>\n",
       "<style scoped>\n",
       "    .dataframe tbody tr th:only-of-type {\n",
       "        vertical-align: middle;\n",
       "    }\n",
       "\n",
       "    .dataframe tbody tr th {\n",
       "        vertical-align: top;\n",
       "    }\n",
       "\n",
       "    .dataframe thead th {\n",
       "        text-align: right;\n",
       "    }\n",
       "</style>\n",
       "<table border=\"1\" class=\"dataframe\">\n",
       "  <thead>\n",
       "    <tr style=\"text-align: right;\">\n",
       "      <th></th>\n",
       "      <th>Order_Num</th>\n",
       "      <th>RFR1</th>\n",
       "      <th>Y_test</th>\n",
       "      <th>Cluster</th>\n",
       "      <th>cv</th>\n",
       "    </tr>\n",
       "  </thead>\n",
       "  <tbody>\n",
       "    <tr>\n",
       "      <th>0</th>\n",
       "      <td>116908.0</td>\n",
       "      <td>2299.279000</td>\n",
       "      <td>2299.0</td>\n",
       "      <td>0</td>\n",
       "      <td>1</td>\n",
       "    </tr>\n",
       "    <tr>\n",
       "      <th>1</th>\n",
       "      <td>116909.0</td>\n",
       "      <td>2299.275000</td>\n",
       "      <td>2301.1</td>\n",
       "      <td>0</td>\n",
       "      <td>1</td>\n",
       "    </tr>\n",
       "    <tr>\n",
       "      <th>2</th>\n",
       "      <td>116910.0</td>\n",
       "      <td>2300.042000</td>\n",
       "      <td>2301.5</td>\n",
       "      <td>0</td>\n",
       "      <td>1</td>\n",
       "    </tr>\n",
       "    <tr>\n",
       "      <th>3</th>\n",
       "      <td>116911.0</td>\n",
       "      <td>2302.530000</td>\n",
       "      <td>2304.8</td>\n",
       "      <td>0</td>\n",
       "      <td>1</td>\n",
       "    </tr>\n",
       "    <tr>\n",
       "      <th>4</th>\n",
       "      <td>116912.0</td>\n",
       "      <td>2303.789000</td>\n",
       "      <td>2301.8</td>\n",
       "      <td>0</td>\n",
       "      <td>1</td>\n",
       "    </tr>\n",
       "    <tr>\n",
       "      <th>...</th>\n",
       "      <td>...</td>\n",
       "      <td>...</td>\n",
       "      <td>...</td>\n",
       "      <td>...</td>\n",
       "      <td>...</td>\n",
       "    </tr>\n",
       "    <tr>\n",
       "      <th>54515</th>\n",
       "      <td>162954.0</td>\n",
       "      <td>2394.927000</td>\n",
       "      <td>2390.2</td>\n",
       "      <td>7</td>\n",
       "      <td>1</td>\n",
       "    </tr>\n",
       "    <tr>\n",
       "      <th>54516</th>\n",
       "      <td>162955.0</td>\n",
       "      <td>2392.673000</td>\n",
       "      <td>2391.0</td>\n",
       "      <td>7</td>\n",
       "      <td>1</td>\n",
       "    </tr>\n",
       "    <tr>\n",
       "      <th>54517</th>\n",
       "      <td>162956.0</td>\n",
       "      <td>2390.647000</td>\n",
       "      <td>2387.4</td>\n",
       "      <td>7</td>\n",
       "      <td>1</td>\n",
       "    </tr>\n",
       "    <tr>\n",
       "      <th>54518</th>\n",
       "      <td>162957.0</td>\n",
       "      <td>2384.599000</td>\n",
       "      <td>2383.7</td>\n",
       "      <td>7</td>\n",
       "      <td>1</td>\n",
       "    </tr>\n",
       "    <tr>\n",
       "      <th>54519</th>\n",
       "      <td>162958.0</td>\n",
       "      <td>2382.055687</td>\n",
       "      <td>2381.7</td>\n",
       "      <td>7</td>\n",
       "      <td>1</td>\n",
       "    </tr>\n",
       "  </tbody>\n",
       "</table>\n",
       "<p>54520 rows × 5 columns</p>\n",
       "</div>"
      ],
      "text/plain": [
       "       Order_Num         RFR1  Y_test  Cluster  cv\n",
       "0       116908.0  2299.279000  2299.0        0   1\n",
       "1       116909.0  2299.275000  2301.1        0   1\n",
       "2       116910.0  2300.042000  2301.5        0   1\n",
       "3       116911.0  2302.530000  2304.8        0   1\n",
       "4       116912.0  2303.789000  2301.8        0   1\n",
       "...          ...          ...     ...      ...  ..\n",
       "54515   162954.0  2394.927000  2390.2        7   1\n",
       "54516   162955.0  2392.673000  2391.0        7   1\n",
       "54517   162956.0  2390.647000  2387.4        7   1\n",
       "54518   162957.0  2384.599000  2383.7        7   1\n",
       "54519   162958.0  2382.055687  2381.7        7   1\n",
       "\n",
       "[54520 rows x 5 columns]"
      ]
     },
     "execution_count": 49,
     "metadata": {},
     "output_type": "execute_result"
    }
   ],
   "source": [
    "one"
   ]
  },
  {
   "cell_type": "markdown",
   "id": "5621069b-bb3e-4d4c-9ab4-df6e4ac57b21",
   "metadata": {},
   "source": [
    "## CV 2"
   ]
  },
  {
   "cell_type": "code",
   "execution_count": 50,
   "id": "6aa40559-8431-4df4-9fff-4b6fc2eb599f",
   "metadata": {},
   "outputs": [],
   "source": [
    "b1 = make_features(cluster_lst)\n",
    "d1 = rearrange(ex[1],b1)\n",
    "e1 = y_capture(ex[1],b1)\n",
    "order1 = order_capture(ex[1],b1)\n",
    "f1 = make_clust_eq(d1)\n",
    "g1 = rfr(f1,e1)\n",
    "h1 = preds(f1,e1)"
   ]
  },
  {
   "cell_type": "code",
   "execution_count": 51,
   "id": "a4ef310b-7ef3-49e0-98c1-698ef071f0b9",
   "metadata": {},
   "outputs": [],
   "source": [
    "tw=g1"
   ]
  },
  {
   "cell_type": "code",
   "execution_count": 52,
   "id": "46613dbe-c9fd-4020-8cd2-93c5177303c1",
   "metadata": {},
   "outputs": [
    {
     "data": {
      "text/plain": [
       "([1.2444097867701127,\n",
       "  4.894137446674277,\n",
       "  1.6570476113777006,\n",
       "  1.5283991383298567,\n",
       "  2.26651264037831,\n",
       "  2.1082002427512663,\n",
       "  1.3178106853314722,\n",
       "  1.410460132528376],\n",
       " [4.780764256259536,\n",
       "  36.13580470772114,\n",
       "  6.007562121409623,\n",
       "  5.318623435594565,\n",
       "  13.661241889708052,\n",
       "  7.76857351563578,\n",
       "  4.158811970509429,\n",
       "  6.505131040062277])"
      ]
     },
     "execution_count": 52,
     "metadata": {},
     "output_type": "execute_result"
    }
   ],
   "source": [
    "tw"
   ]
  },
  {
   "cell_type": "code",
   "execution_count": 53,
   "id": "6cf53ba8-0d59-46e8-8d84-944cc34bd6e5",
   "metadata": {},
   "outputs": [],
   "source": [
    "two = comb_ords_preds(h1[1], order1, e1)"
   ]
  },
  {
   "cell_type": "code",
   "execution_count": 54,
   "id": "b09e6a77-f250-4e5b-88c4-32c8471a2b45",
   "metadata": {},
   "outputs": [],
   "source": [
    "two[\"cv\"] = 2"
   ]
  },
  {
   "cell_type": "markdown",
   "id": "c4c2f4b4-373d-42f9-991f-1299f053ddae",
   "metadata": {},
   "source": [
    "## CV 3"
   ]
  },
  {
   "cell_type": "code",
   "execution_count": 55,
   "id": "477dcaaf-5802-4ac3-bfa2-43b491a47d15",
   "metadata": {},
   "outputs": [],
   "source": [
    "b2 = make_features(cluster_lst)\n",
    "d2 = rearrange(ex[2],b2)\n",
    "e2 = y_capture(ex[2],b2)\n",
    "order2 = order_capture(ex[2],b2)\n",
    "f2 = make_clust_eq(d2)\n",
    "g2 = rfr(f2,e2)\n",
    "h2 = preds(f2,e2)"
   ]
  },
  {
   "cell_type": "code",
   "execution_count": 56,
   "id": "7e1569f4-cc1c-410a-9e68-c2aa7055729d",
   "metadata": {},
   "outputs": [],
   "source": [
    "th=g2"
   ]
  },
  {
   "cell_type": "code",
   "execution_count": 57,
   "id": "2ddb537f-8d91-4bef-bf31-5fd9bccac3a5",
   "metadata": {},
   "outputs": [
    {
     "data": {
      "text/plain": [
       "([1.1600648216467442,\n",
       "  5.801173161743722,\n",
       "  1.6858923900879323,\n",
       "  1.5166855623135271,\n",
       "  2.37289015000814,\n",
       "  2.03525638376589,\n",
       "  1.255990183746004,\n",
       "  1.5308190628072926],\n",
       " [5.606010799447317,\n",
       "  20.53914721301718,\n",
       "  5.98892396925996,\n",
       "  5.399105016719821,\n",
       "  7.638586811845952,\n",
       "  7.731757388082069,\n",
       "  4.679138101586994,\n",
       "  5.947183005159413])"
      ]
     },
     "execution_count": 57,
     "metadata": {},
     "output_type": "execute_result"
    }
   ],
   "source": [
    "th"
   ]
  },
  {
   "cell_type": "code",
   "execution_count": 58,
   "id": "525928eb-f52c-4a7a-924b-2410a0a25946",
   "metadata": {},
   "outputs": [],
   "source": [
    "three = comb_ords_preds(h2[1], order2, e2)"
   ]
  },
  {
   "cell_type": "code",
   "execution_count": 59,
   "id": "f0cb364b-4818-48cb-8db0-56e6362ecbb8",
   "metadata": {},
   "outputs": [],
   "source": [
    "three[\"cv\"] = 3"
   ]
  },
  {
   "cell_type": "markdown",
   "id": "44b2128e-e887-46aa-bd64-9331b3af1c6e",
   "metadata": {},
   "source": [
    "## CV 4"
   ]
  },
  {
   "cell_type": "code",
   "execution_count": 60,
   "id": "5fada822-ed35-4969-b863-b44a19579063",
   "metadata": {},
   "outputs": [],
   "source": [
    "b3 = make_features(cluster_lst)\n",
    "d3 = rearrange(ex[3],b3)\n",
    "e3 = y_capture(ex[3],b3)\n",
    "order3 = order_capture(ex[3],b3)\n",
    "f3 = make_clust_eq(d3)\n",
    "g3 = rfr(f3,e3)\n",
    "h3 = preds(f3,e3)"
   ]
  },
  {
   "cell_type": "code",
   "execution_count": 61,
   "id": "c0f0da1a-5c1c-494a-9118-f8501188e7ed",
   "metadata": {},
   "outputs": [],
   "source": [
    "fo = g3"
   ]
  },
  {
   "cell_type": "code",
   "execution_count": 62,
   "id": "585828cb-de03-4fd4-96ec-ffb77da9a4cf",
   "metadata": {},
   "outputs": [],
   "source": [
    "four = comb_ords_preds(h3[1], order3, e3)"
   ]
  },
  {
   "cell_type": "code",
   "execution_count": 63,
   "id": "a3a96fe5-458d-46a2-ba5c-ed2a24cabf73",
   "metadata": {},
   "outputs": [],
   "source": [
    "four[\"cv\"] = 4"
   ]
  },
  {
   "cell_type": "markdown",
   "id": "ffc2c25b-5f9e-4e80-9309-46ba83256e4e",
   "metadata": {},
   "source": [
    "## CV 5"
   ]
  },
  {
   "cell_type": "code",
   "execution_count": 64,
   "id": "a24c88b2-b7ea-433c-9570-7fba78aaec28",
   "metadata": {},
   "outputs": [],
   "source": [
    "b4 = make_features(cluster_lst)\n",
    "d4 = rearrange(ex[4],b4)\n",
    "e4 = y_capture(ex[4],b4)\n",
    "order4 = order_capture(ex[4],b4)\n",
    "f4 = make_clust_eq(d4)\n",
    "g4 = rfr(f4,e4)\n",
    "h4 = preds(f4,e4)"
   ]
  },
  {
   "cell_type": "code",
   "execution_count": 65,
   "id": "e0187ca3-10a0-4691-9521-1b819541a429",
   "metadata": {},
   "outputs": [],
   "source": [
    "fi = g4"
   ]
  },
  {
   "cell_type": "code",
   "execution_count": 66,
   "id": "59d094f2-eb3c-467c-bb43-94c3e070b17d",
   "metadata": {},
   "outputs": [],
   "source": [
    "five = comb_ords_preds(h4[1], order4, e4)"
   ]
  },
  {
   "cell_type": "code",
   "execution_count": 67,
   "id": "26d6b1f2-4c4d-4197-b470-51313a3f940b",
   "metadata": {},
   "outputs": [],
   "source": [
    "five[\"cv\"] = 5"
   ]
  },
  {
   "cell_type": "markdown",
   "id": "5bae1a4c-8359-4c4b-a9d2-d1510fecee7e",
   "metadata": {},
   "source": [
    "## Adding a Bias Column to the CV Table"
   ]
  },
  {
   "cell_type": "code",
   "execution_count": 68,
   "id": "aaee6074-8d43-46ef-b744-1c2fb0855381",
   "metadata": {},
   "outputs": [],
   "source": [
    "all_cv = pd.concat([one, two, three, four, five])"
   ]
  },
  {
   "cell_type": "code",
   "execution_count": 69,
   "id": "68b2e65f-7609-44d4-b5a2-32d8c78c7562",
   "metadata": {},
   "outputs": [
    {
     "data": {
      "text/html": [
       "<div>\n",
       "<style scoped>\n",
       "    .dataframe tbody tr th:only-of-type {\n",
       "        vertical-align: middle;\n",
       "    }\n",
       "\n",
       "    .dataframe tbody tr th {\n",
       "        vertical-align: top;\n",
       "    }\n",
       "\n",
       "    .dataframe thead th {\n",
       "        text-align: right;\n",
       "    }\n",
       "</style>\n",
       "<table border=\"1\" class=\"dataframe\">\n",
       "  <thead>\n",
       "    <tr style=\"text-align: right;\">\n",
       "      <th></th>\n",
       "      <th>Order_Num</th>\n",
       "      <th>RFR1</th>\n",
       "      <th>Y_test</th>\n",
       "      <th>cv</th>\n",
       "      <th>bias</th>\n",
       "    </tr>\n",
       "    <tr>\n",
       "      <th>Cluster</th>\n",
       "      <th></th>\n",
       "      <th></th>\n",
       "      <th></th>\n",
       "      <th></th>\n",
       "      <th></th>\n",
       "    </tr>\n",
       "  </thead>\n",
       "  <tbody>\n",
       "    <tr>\n",
       "      <th>0</th>\n",
       "      <td>148090.747783</td>\n",
       "      <td>2325.090627</td>\n",
       "      <td>2325.104070</td>\n",
       "      <td>2.885986</td>\n",
       "      <td>-0.013443</td>\n",
       "    </tr>\n",
       "    <tr>\n",
       "      <th>1</th>\n",
       "      <td>100976.516340</td>\n",
       "      <td>2169.117336</td>\n",
       "      <td>2171.102326</td>\n",
       "      <td>2.191176</td>\n",
       "      <td>-1.984990</td>\n",
       "    </tr>\n",
       "    <tr>\n",
       "      <th>2</th>\n",
       "      <td>83886.128873</td>\n",
       "      <td>2345.459833</td>\n",
       "      <td>2345.462606</td>\n",
       "      <td>2.906644</td>\n",
       "      <td>-0.002773</td>\n",
       "    </tr>\n",
       "    <tr>\n",
       "      <th>3</th>\n",
       "      <td>71203.811346</td>\n",
       "      <td>2342.293086</td>\n",
       "      <td>2342.247686</td>\n",
       "      <td>2.887654</td>\n",
       "      <td>0.045401</td>\n",
       "    </tr>\n",
       "    <tr>\n",
       "      <th>4</th>\n",
       "      <td>79208.325758</td>\n",
       "      <td>2262.865344</td>\n",
       "      <td>2263.811000</td>\n",
       "      <td>2.287584</td>\n",
       "      <td>-0.945656</td>\n",
       "    </tr>\n",
       "    <tr>\n",
       "      <th>5</th>\n",
       "      <td>67549.166037</td>\n",
       "      <td>2321.103969</td>\n",
       "      <td>2321.083901</td>\n",
       "      <td>2.850985</td>\n",
       "      <td>0.020068</td>\n",
       "    </tr>\n",
       "    <tr>\n",
       "      <th>6</th>\n",
       "      <td>48981.864166</td>\n",
       "      <td>2349.278112</td>\n",
       "      <td>2349.285691</td>\n",
       "      <td>3.228815</td>\n",
       "      <td>-0.007580</td>\n",
       "    </tr>\n",
       "    <tr>\n",
       "      <th>7</th>\n",
       "      <td>150036.290943</td>\n",
       "      <td>2337.547288</td>\n",
       "      <td>2337.378366</td>\n",
       "      <td>2.575523</td>\n",
       "      <td>0.168923</td>\n",
       "    </tr>\n",
       "  </tbody>\n",
       "</table>\n",
       "</div>"
      ],
      "text/plain": [
       "             Order_Num         RFR1       Y_test        cv      bias\n",
       "Cluster                                                             \n",
       "0        148090.747783  2325.090627  2325.104070  2.885986 -0.013443\n",
       "1        100976.516340  2169.117336  2171.102326  2.191176 -1.984990\n",
       "2         83886.128873  2345.459833  2345.462606  2.906644 -0.002773\n",
       "3         71203.811346  2342.293086  2342.247686  2.887654  0.045401\n",
       "4         79208.325758  2262.865344  2263.811000  2.287584 -0.945656\n",
       "5         67549.166037  2321.103969  2321.083901  2.850985  0.020068\n",
       "6         48981.864166  2349.278112  2349.285691  3.228815 -0.007580\n",
       "7        150036.290943  2337.547288  2337.378366  2.575523  0.168923"
      ]
     },
     "execution_count": 69,
     "metadata": {},
     "output_type": "execute_result"
    }
   ],
   "source": [
    "all_cv[\"bias\"] = all_cv[\"RFR1\"] - all_cv[\"Y_test\"]\n",
    "all_cv.groupby(\"Cluster\").mean()"
   ]
  },
  {
   "cell_type": "markdown",
   "id": "2226a1bc-10e7-4807-89c1-cade17225600",
   "metadata": {},
   "source": [
    "## RMSE averages"
   ]
  },
  {
   "cell_type": "code",
   "execution_count": 83,
   "id": "f78d6201-ea43-4fd4-b83a-46d06c18ff45",
   "metadata": {},
   "outputs": [],
   "source": [
    "rmls = [on[1], tw[1], th[1], fo[1], fi[1]]"
   ]
  },
  {
   "cell_type": "code",
   "execution_count": 86,
   "id": "d9a2f811-7f84-437f-b04d-74664a96dcc3",
   "metadata": {},
   "outputs": [],
   "source": [
    "rmse_df = pd.DataFrame(on[1])"
   ]
  },
  {
   "cell_type": "code",
   "execution_count": 93,
   "id": "637e25c5-076b-47de-840d-6cd2c0ed9564",
   "metadata": {},
   "outputs": [],
   "source": [
    "rmse_df[\"1\"] = tw[1]\n",
    "rmse_df[\"2\"] = th[1]\n",
    "rmse_df[\"3\"] = fo[1]\n",
    "rmse_df[\"4\"] = fi[1]"
   ]
  },
  {
   "cell_type": "code",
   "execution_count": 95,
   "id": "8ce9da31-b0b8-4233-a21e-f6f95a3b50a4",
   "metadata": {},
   "outputs": [],
   "source": [
    "rmse_df[\"avg\"] = np.mean(rmse_df, axis =1)"
   ]
  },
  {
   "cell_type": "code",
   "execution_count": 96,
   "id": "11c77225-39c8-492c-b1f4-8b0a48a5b247",
   "metadata": {},
   "outputs": [
    {
     "data": {
      "text/html": [
       "<div>\n",
       "<style scoped>\n",
       "    .dataframe tbody tr th:only-of-type {\n",
       "        vertical-align: middle;\n",
       "    }\n",
       "\n",
       "    .dataframe tbody tr th {\n",
       "        vertical-align: top;\n",
       "    }\n",
       "\n",
       "    .dataframe thead th {\n",
       "        text-align: right;\n",
       "    }\n",
       "</style>\n",
       "<table border=\"1\" class=\"dataframe\">\n",
       "  <thead>\n",
       "    <tr style=\"text-align: right;\">\n",
       "      <th></th>\n",
       "      <th>0</th>\n",
       "      <th>1</th>\n",
       "      <th>2</th>\n",
       "      <th>3</th>\n",
       "      <th>4</th>\n",
       "      <th>avg</th>\n",
       "    </tr>\n",
       "  </thead>\n",
       "  <tbody>\n",
       "    <tr>\n",
       "      <th>0</th>\n",
       "      <td>4.099864</td>\n",
       "      <td>4.780764</td>\n",
       "      <td>5.606011</td>\n",
       "      <td>3.742733</td>\n",
       "      <td>3.916765</td>\n",
       "      <td>4.429228</td>\n",
       "    </tr>\n",
       "    <tr>\n",
       "      <th>1</th>\n",
       "      <td>22.234496</td>\n",
       "      <td>36.135805</td>\n",
       "      <td>20.539147</td>\n",
       "      <td>18.847833</td>\n",
       "      <td>14.553259</td>\n",
       "      <td>22.462108</td>\n",
       "    </tr>\n",
       "    <tr>\n",
       "      <th>2</th>\n",
       "      <td>5.269306</td>\n",
       "      <td>6.007562</td>\n",
       "      <td>5.988924</td>\n",
       "      <td>5.442247</td>\n",
       "      <td>4.590867</td>\n",
       "      <td>5.459781</td>\n",
       "    </tr>\n",
       "    <tr>\n",
       "      <th>3</th>\n",
       "      <td>5.114138</td>\n",
       "      <td>5.318623</td>\n",
       "      <td>5.399105</td>\n",
       "      <td>4.716471</td>\n",
       "      <td>5.797535</td>\n",
       "      <td>5.269174</td>\n",
       "    </tr>\n",
       "    <tr>\n",
       "      <th>4</th>\n",
       "      <td>8.395583</td>\n",
       "      <td>13.661242</td>\n",
       "      <td>7.638587</td>\n",
       "      <td>10.470499</td>\n",
       "      <td>5.554151</td>\n",
       "      <td>9.144012</td>\n",
       "    </tr>\n",
       "    <tr>\n",
       "      <th>5</th>\n",
       "      <td>6.278544</td>\n",
       "      <td>7.768574</td>\n",
       "      <td>7.731757</td>\n",
       "      <td>8.024167</td>\n",
       "      <td>4.718473</td>\n",
       "      <td>6.904303</td>\n",
       "    </tr>\n",
       "    <tr>\n",
       "      <th>6</th>\n",
       "      <td>4.026153</td>\n",
       "      <td>4.158812</td>\n",
       "      <td>4.679138</td>\n",
       "      <td>3.772253</td>\n",
       "      <td>3.714001</td>\n",
       "      <td>4.070072</td>\n",
       "    </tr>\n",
       "    <tr>\n",
       "      <th>7</th>\n",
       "      <td>4.840192</td>\n",
       "      <td>6.505131</td>\n",
       "      <td>5.947183</td>\n",
       "      <td>4.366396</td>\n",
       "      <td>9.384188</td>\n",
       "      <td>6.208618</td>\n",
       "    </tr>\n",
       "  </tbody>\n",
       "</table>\n",
       "</div>"
      ],
      "text/plain": [
       "           0          1          2          3          4        avg\n",
       "0   4.099864   4.780764   5.606011   3.742733   3.916765   4.429228\n",
       "1  22.234496  36.135805  20.539147  18.847833  14.553259  22.462108\n",
       "2   5.269306   6.007562   5.988924   5.442247   4.590867   5.459781\n",
       "3   5.114138   5.318623   5.399105   4.716471   5.797535   5.269174\n",
       "4   8.395583  13.661242   7.638587  10.470499   5.554151   9.144012\n",
       "5   6.278544   7.768574   7.731757   8.024167   4.718473   6.904303\n",
       "6   4.026153   4.158812   4.679138   3.772253   3.714001   4.070072\n",
       "7   4.840192   6.505131   5.947183   4.366396   9.384188   6.208618"
      ]
     },
     "execution_count": 96,
     "metadata": {},
     "output_type": "execute_result"
    }
   ],
   "source": [
    "rmse_df"
   ]
  },
  {
   "cell_type": "markdown",
   "id": "ee43433e-316e-4f5d-85cf-2809df8c4c06",
   "metadata": {},
   "source": [
    "### Editing Functions"
   ]
  },
  {
   "cell_type": "markdown",
   "id": "b3f808d1-4c8c-427f-90e4-ae80d44fda4a",
   "metadata": {},
   "source": [
    "#### Fixing the Y capture function"
   ]
  },
  {
   "cell_type": "code",
   "execution_count": 115,
   "id": "86c7a918-db29-49f8-b20b-7e1a7d3ceacd",
   "metadata": {},
   "outputs": [],
   "source": [
    "y_dict = {}\n",
    "for idx in ex[0].keys(): #going into each of the keys \n",
    "    train_index, test_index = ex[0][idx]\n",
    "    y_train = b[idx][9][train_index]\n",
    "    y_test = b[idx][9][test_index]\n",
    "    y_dict[idx] = (y_train, y_test)"
   ]
  },
  {
   "cell_type": "markdown",
   "id": "1bdc6787-93bc-4a0d-ac6c-68bd4197e222",
   "metadata": {},
   "source": [
    "#### Fixing Rearrange Function"
   ]
  },
  {
   "cell_type": "code",
   "execution_count": null,
   "id": "ca8b8c8f-b3d0-4f40-9f48-0c3e9c59435e",
   "metadata": {},
   "outputs": [],
   "source": [
    "## fixing rearrange function\n",
    "reshaped_data = {}\n",
    "for idx in ex[0].keys(): #going into each of the keys \n",
    "    train_index, test_index = ex[0][idx]\n",
    "    feat_values = []\n",
    "    for i in range(len(b[idx])-3): ##added a \"-3\" to get rid of last three elements but idk that will acutally work\n",
    "        re_values = []    \n",
    "        \n",
    "        train_arr = b[idx][i][train_index]\n",
    "        train=np.array(train_arr)\n",
    "        train.reshape(-1,1)\n",
    "        \n",
    "        test_arr = b[idx][i][test_index]\n",
    "        test = np.array(test_arr)\n",
    "        test.reshape(-1,1)\n",
    "        \n",
    "        re_values.append(train)\n",
    "        re_values.append(test)\n",
    "        feat_values.append(re_values)\n",
    "        \n",
    "    reshaped_data[idx] = feat_values"
   ]
  },
  {
   "cell_type": "code",
   "execution_count": 7,
   "id": "1f17daf7-85ce-45c8-83b6-2c81d02ae292",
   "metadata": {},
   "outputs": [],
   "source": [
    "#b"
   ]
  },
  {
   "cell_type": "code",
   "execution_count": 156,
   "id": "888f862c-0184-41ae-96ed-7554ae847158",
   "metadata": {
    "scrolled": true
   },
   "outputs": [
    {
     "data": {
      "text/plain": [
       "{0: [Index([    57,     58,     59,     60,     61,     62,     63,     64,     65,\n",
       "             66,\n",
       "         ...\n",
       "         208807, 208808, 208809, 208810, 208811, 208812, 208813, 208814, 208815,\n",
       "         208816],\n",
       "        dtype='int64', length=39074),\n",
       "  Index([  5851,   5852,   5853,   5854,   5855,   5856,   5857,   5858,   5859,\n",
       "           5860,\n",
       "         ...\n",
       "         209472, 209473, 209474, 209475, 209476, 209477, 209478, 209479, 209480,\n",
       "         209481],\n",
       "        dtype='int64', length=7891)],\n",
       " 1: [Index([   228,    229,    230,    231,    232,    233,    234,    235,    236,\n",
       "            237,\n",
       "         ...\n",
       "         211678, 211679, 211680, 211681, 211682, 211683, 211684, 211685, 211686,\n",
       "         211687],\n",
       "        dtype='int64', length=29255),\n",
       "  Index([  6576,   6577,   6578,   6579,   6580,   6581,   6582,   6583,   6584,\n",
       "           6585,\n",
       "         ...\n",
       "         205690, 205691, 205692, 205693, 205694, 205695, 205696, 205697, 205698,\n",
       "         205699],\n",
       "        dtype='int64', length=8143)],\n",
       " 2: [Index([116279, 116280, 116281, 116282, 116283, 116284, 116285, 116286, 116287,\n",
       "         116288,\n",
       "         ...\n",
       "         233086, 233087, 233088, 233089, 233090, 233091, 233092, 233093, 233094,\n",
       "         233095],\n",
       "        dtype='int64', length=29589),\n",
       "  Index([117170, 117171, 117172, 117173, 117174, 117175, 117176, 117177, 117178,\n",
       "         117179,\n",
       "         ...\n",
       "         226819, 226820, 226821, 226822, 226823, 226824, 226825, 226826, 226827,\n",
       "         226828],\n",
       "        dtype='int64', length=9497)],\n",
       " 3: [Index([   161,    162,    163,    164,    165,    166,    167,    168,    169,\n",
       "            170,\n",
       "         ...\n",
       "         210744, 210745, 210746, 210747, 210757, 210758, 210759, 210760, 210761,\n",
       "         210762],\n",
       "        dtype='int64', length=21950),\n",
       "  Index([     0,      1,      2,      3,      4,      5,      6,      7,      8,\n",
       "              9,\n",
       "         ...\n",
       "         210975, 210976, 210977, 210978, 210979, 210980, 210981, 210982, 210983,\n",
       "         210984],\n",
       "        dtype='int64', length=8194)],\n",
       " 4: [Index([115954, 115955, 115956, 115957, 115958, 115959, 115960, 115961, 115962,\n",
       "         115963,\n",
       "         ...\n",
       "         233357, 233358, 233359, 233360, 233361, 233362, 233363, 233364, 233365,\n",
       "         233366],\n",
       "        dtype='int64', length=18700),\n",
       "  Index([116908, 116909, 116910, 116911, 116912, 116913, 116914, 116915, 116916,\n",
       "         116917,\n",
       "         ...\n",
       "         226936, 226937, 226938, 226939, 226940, 226941, 226942, 226943, 226944,\n",
       "         226945],\n",
       "        dtype='int64', length=5063)],\n",
       " 5: [Index([   435,    436,    437,    438,    439,    440,    441,    442,    443,\n",
       "            444,\n",
       "         ...\n",
       "         231495, 233375, 233376, 233377, 233378, 233388, 233389, 233390, 233391,\n",
       "         233392],\n",
       "        dtype='int64', length=12964),\n",
       "  Index([  7725,   7726,   7727,   7728,   7729,   7730,   7731,   7732,   7733,\n",
       "           7734,\n",
       "         ...\n",
       "         223888, 223889, 223890, 223891, 223892, 223893, 223894, 223895, 223896,\n",
       "         223897],\n",
       "        dtype='int64', length=4061)],\n",
       " 6: [Index([  2782,  15480,  15481,  15482,  15483,  15484,  15485,  15486,  15487,\n",
       "          15488,\n",
       "         ...\n",
       "         210816, 210817, 210818, 210819, 210820, 210821, 210822, 210823, 210824,\n",
       "         210825],\n",
       "        dtype='int64', length=2286),\n",
       "  Index([    34,     35,     36,     37,     38,     39,  80661,  80662,  80663,\n",
       "          80664,\n",
       "         ...\n",
       "         209827, 209828, 209829, 209830, 210910, 210915, 210917, 210919, 210922,\n",
       "         210923],\n",
       "        dtype='int64', length=1268)],\n",
       " 7: [Index([   336,    337,    338,    339,    340,    341,    342,    343,    344,\n",
       "            345,\n",
       "         ...\n",
       "         233425, 233426, 233427, 233428, 233429, 233430, 233431, 233432, 233433,\n",
       "         233434],\n",
       "        dtype='int64', length=26971),\n",
       "  Index([  6660,   6661,   6662,   6663,   6664,   6665,   6666,   6667,   6668,\n",
       "           6669,\n",
       "         ...\n",
       "         224040, 224041, 224042, 224043, 224044, 224045, 224046, 224047, 224048,\n",
       "         224049],\n",
       "        dtype='int64', length=8529)]}"
      ]
     },
     "execution_count": 156,
     "metadata": {},
     "output_type": "execute_result"
    }
   ],
   "source": [
    "cv_split(cr_lst)[0]"
   ]
  },
  {
   "cell_type": "code",
   "execution_count": 153,
   "id": "114b3f50-0fae-47fd-81f8-a3b363f93759",
   "metadata": {},
   "outputs": [
    {
     "data": {
      "text/plain": [
       "115954    33.8840\n",
       "115955    33.8810\n",
       "115956    33.9180\n",
       "115957    34.0530\n",
       "115958    34.4340\n",
       "           ...   \n",
       "232418    34.6728\n",
       "232419    34.6777\n",
       "232420    34.6830\n",
       "232421    34.6822\n",
       "232422    34.6826\n",
       "Name: S, Length: 24804, dtype: float64"
      ]
     },
     "execution_count": 153,
     "metadata": {},
     "output_type": "execute_result"
    }
   ],
   "source": [
    "b[0][0]"
   ]
  },
  {
   "cell_type": "code",
   "execution_count": 98,
   "id": "6b5462d9-4e2e-41f3-a5ec-db66d796b3a3",
   "metadata": {},
   "outputs": [
    {
     "data": {
      "text/plain": [
       "(39074, 7891)"
      ]
     },
     "execution_count": 98,
     "metadata": {},
     "output_type": "execute_result"
    }
   ],
   "source": [
    "len(reshaped_data[0][0][0]), len(reshaped_data[0][0][1])"
   ]
  },
  {
   "cell_type": "code",
   "execution_count": 69,
   "id": "b4504d6f-06e0-4a0a-a748-7ecad2e35354",
   "metadata": {},
   "outputs": [
    {
     "data": {
      "text/plain": [
       "Index([    57,     58,     59,     60,     61,     62,     63,     64,     65,\n",
       "           66,\n",
       "       ...\n",
       "       208807, 208808, 208809, 208810, 208811, 208812, 208813, 208814, 208815,\n",
       "       208816],\n",
       "      dtype='int64', length=39074)"
      ]
     },
     "execution_count": 69,
     "metadata": {},
     "output_type": "execute_result"
    }
   ],
   "source": [
    "train_index"
   ]
  },
  {
   "cell_type": "code",
   "execution_count": 74,
   "id": "e2aebe8b-70e8-4a5c-963f-ce89f2b7eadc",
   "metadata": {},
   "outputs": [
    {
     "data": {
      "text/plain": [
       "Index([  5851,   5852,   5853,   5854,   5855,   5856,   5857,   5858,   5859,\n",
       "         5860,\n",
       "       ...\n",
       "       209472, 209473, 209474, 209475, 209476, 209477, 209478, 209479, 209480,\n",
       "       209481],\n",
       "      dtype='int64', length=7891)"
      ]
     },
     "execution_count": 74,
     "metadata": {},
     "output_type": "execute_result"
    }
   ],
   "source": [
    "test_index"
   ]
  },
  {
   "cell_type": "code",
   "execution_count": 73,
   "id": "969afbad-3c07-4398-a9d4-b43134f310cb",
   "metadata": {},
   "outputs": [
    {
     "data": {
      "text/plain": [
       "Index([    57,     58,     59,     60,     61,     62,     63,     64,     65,\n",
       "           66,\n",
       "       ...\n",
       "       209472, 209473, 209474, 209475, 209476, 209477, 209478, 209479, 209480,\n",
       "       209481],\n",
       "      dtype='int64', length=46965)"
      ]
     },
     "execution_count": 73,
     "metadata": {},
     "output_type": "execute_result"
    }
   ],
   "source": [
    "b[0][0].index"
   ]
  },
  {
   "cell_type": "code",
   "execution_count": 75,
   "id": "0b04e99e-9e1c-4208-ae42-da2427c12ba4",
   "metadata": {},
   "outputs": [
    {
     "data": {
      "text/plain": [
       "Index([    57,     58,     59,     60,     61,     62,     63,     64,     65,\n",
       "           66,\n",
       "       ...\n",
       "       209472, 209473, 209474, 209475, 209476, 209477, 209478, 209479, 209480,\n",
       "       209481],\n",
       "      dtype='int64', length=46965)"
      ]
     },
     "execution_count": 75,
     "metadata": {},
     "output_type": "execute_result"
    }
   ],
   "source": [
    "b[0][1].index"
   ]
  }
 ],
 "metadata": {
  "kernelspec": {
   "display_name": "Python 3 (ipykernel)",
   "language": "python",
   "name": "python3"
  },
  "language_info": {
   "codemirror_mode": {
    "name": "ipython",
    "version": 3
   },
   "file_extension": ".py",
   "mimetype": "text/x-python",
   "name": "python",
   "nbconvert_exporter": "python",
   "pygments_lexer": "ipython3",
   "version": "3.10.11"
  }
 },
 "nbformat": 4,
 "nbformat_minor": 5
}
