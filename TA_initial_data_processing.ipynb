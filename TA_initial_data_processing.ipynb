{
 "cells": [
  {
   "cell_type": "markdown",
   "id": "d34fc25e-f95c-40fc-a6fc-01543c00afbd",
   "metadata": {},
   "source": [
    "# Initial Data Processing"
   ]
  },
  {
   "cell_type": "code",
   "execution_count": null,
   "id": "1ebfa71a-ae59-45d3-903f-a12fc37103e5",
   "metadata": {},
   "outputs": [],
   "source": [
    "#Downloaded the data from the GLODAP website\n",
    "taa = pd.read_csv(\"~/hollings/data/GLODAPv2.2022_Merged_Master_File.csv\", low_memory = False)\n",
    "\n",
    "#Selecting relevant columns\n",
    "taa_ed = taa[['G2cruise', 'G2region', 'G2latitude', 'G2longitude', 'G2bottomdepth', 'G2depth', 'G2temperature', 'G2salinity', 'G2oxygen', 'G2nitrate', 'G2silicate', 'G2aou', 'G2theta', 'G2talk', \"G2year\", \"G2month\", \"G2day\"]] "
   ]
  },
  {
   "cell_type": "markdown",
   "id": "9863926b-800a-49f2-9f39-9776d298f9a3",
   "metadata": {},
   "source": [
    "### Added and editing variables"
   ]
  },
  {
   "cell_type": "code",
   "execution_count": null,
   "id": "7c4864b0-be2c-4187-9cd7-7395a7f6d4e5",
   "metadata": {},
   "outputs": [],
   "source": [
    "#Initial Data Processing\n",
    "ta_initial = pd.read_csv(\"~/hollings/data/TA_PreProcessed_PacificOnly2.csv\")\n",
    "ta_bd = pd.read_csv(\"~/hollings/data/Output_NOGOMMED_060524.csv\")\n",
    "\n",
    "#Adding bottom depth \n",
    "cr = ta_initial[\"Cruise\"].unique()\n",
    "lats = ta_initial[\"Latitude\"].unique()\n",
    "lons = ta_initial[\"Longitude\"].unique()\n",
    "taa = ta_initial[\"TA\"].unique()\n",
    "\n",
    "bd = ta_bd[ta_bd.Cruise.isin(cr) & ta_bd.Latitude.isin(lats) & ta_bd.Longitude.isin(lons) & ta_bd.TA.isin(taa)].reset_index()\n",
    "\n",
    "ta_initial[\"Bottom Depth\"] = bd[\"Bottom Depth\"]\n",
    "\n",
    "#Adding row number col\n",
    "ta_initial = ta_initial.assign(order=range(len(ta_initial)))\n",
    "\n",
    "#Adding AOU and PT using sw lib for continuity with ESPERs\n",
    "latitude = list(ta_initial['Latitude'])\n",
    "depth = list(ta_initial['Depth'])\n",
    "salinity = list(ta_initial['S'])\n",
    "temperature = list(ta_initial['T'])\n",
    "oxygen = list(ta_initial['Oxygen'])\n",
    "ptemp= gsw.ptmp(salinity, temperature, gsw.pres(depth, latitude), pr=0)\n",
    "aou = gsw.satO2(salinity, ptemp)*44.6596 - (oxygen)\n",
    "ta_initial[\"PT\"] = ptemp\n",
    "ta_initial[\"AOU\"] = aou\n",
    "\n",
    "#Additional columns\n",
    "ta_sorteddepth=ta_initial.copy()\n",
    "ta_sorteddepth = ta_sorteddepth.sort_values(by= \"Depth\")\n",
    "\n",
    "#Addition of SST column \n",
    "ta_sorteddepth[\"SST\"] = ta_sorteddepth.groupby([\"Cruise\", \"Latitude\", \"Longitude\", \"year\", \"month\", \"day\"])[\"T\"].transform(\"first\")                                                               \n",
    "\n",
    "#Addition of sea surface salinity col\n",
    "ta_sorteddepth[\"SSS\"] = ta_sorteddepth.groupby([\"Cruise\", \"Latitude\", \"Longitude\", \"year\", \"month\", \"day\"])[\"S\"].transform(\"first\")\n",
    "\n",
    "ta_ed = ta_sorteddepth.sort_index()"
   ]
  }
 ],
 "metadata": {
  "kernelspec": {
   "display_name": "Python 3 (ipykernel)",
   "language": "python",
   "name": "python3"
  },
  "language_info": {
   "codemirror_mode": {
    "name": "ipython",
    "version": 3
   },
   "file_extension": ".py",
   "mimetype": "text/x-python",
   "name": "python",
   "nbconvert_exporter": "python",
   "pygments_lexer": "ipython3",
   "version": "3.10.11"
  }
 },
 "nbformat": 4,
 "nbformat_minor": 5
}
